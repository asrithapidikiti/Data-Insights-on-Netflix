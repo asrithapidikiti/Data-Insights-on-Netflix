{
 "cells": [
  {
   "cell_type": "markdown",
   "id": "b492cd64",
   "metadata": {},
   "source": [
    "# PROJECT REPORT - Team BlackHawks"
   ]
  },
  {
   "cell_type": "markdown",
   "id": "bbf6c1e9",
   "metadata": {},
   "source": [
    "## INTRODUCTION"
   ]
  },
  {
   "cell_type": "markdown",
   "id": "d971d578",
   "metadata": {},
   "source": [
    "The digital streaming industry, led by giants like Netflix, has revolutionized how we consume entertainment, transitioning from traditional broadcast methods to an on-demand, digital format that offers unprecedented access to a global repository of movies and shows. However, the overwhelming variety of content makes it critical for platforms like Netflix to not only curate content but predict its success to stay competitive. This project leverages advanced data analytics and machine learning to predict the success of Netflix titles, aiming to refine content recommendations and enhance viewer satisfaction. By analyzing diverse data sets, including viewer ratings and genre popularity, the initiative seeks to uncover patterns and insights that drive content performance, ensuring that high-quality, engaging content reaches the appropriate audience efficiently."
   ]
  },
  {
   "cell_type": "markdown",
   "id": "a15b5cbc",
   "metadata": {},
   "source": [
    "### Significance of the Project"
   ]
  },
  {
   "cell_type": "markdown",
   "id": "526607f0",
   "metadata": {},
   "source": [
    "The ability to predict show success is crucial for Netflix to maintain viewer engagement and optimize their content portfolio. This predictive capability can lead to better satisfaction rates, reduce churn, and enhance the overall viewing experience by ensuring that high-potential content is recognized and made accessible to the right audience. Moreover, this approach helps in effective allocation of marketing and production resources, making it a pivotal tool for business strategy."
   ]
  },
  {
   "cell_type": "markdown",
   "id": "ddb181d2",
   "metadata": {},
   "source": [
    "### Methodology"
   ]
  },
  {
   "cell_type": "markdown",
   "id": "e2f2a384",
   "metadata": {},
   "source": [
    "The project harnesses a combination of data from Netflix's own databases and IMDb to create a rich dataset that includes variables like genre, release year, ratings, viewer preferences, and more. Key machine learning techniques employed include Random Forest and K-Means clustering, integrated through a robust data processing pipeline that ensures clean and optimized data for analysis."
   ]
  },
  {
   "cell_type": "markdown",
   "id": "5555dfaa",
   "metadata": {},
   "source": [
    "### Collaboration and Resources"
   ]
  },
  {
   "cell_type": "markdown",
   "id": "39587087",
   "metadata": {},
   "source": [
    "The project is a collaborative effort, drawing on the diverse expertise of the team members. Detailed\n",
    "information about the project, including its methodology, findings, and resources, is accessible through their\n",
    "GitHub Repository."
   ]
  },
  {
   "cell_type": "markdown",
   "id": "31b86664",
   "metadata": {},
   "source": [
    "### Vision"
   ]
  },
  {
   "cell_type": "markdown",
   "id": "0f8a7533",
   "metadata": {},
   "source": [
    "The project envisions a scenario where Netflix can almost accurately predict the success trajectory of their shows and movies. This capability will not only revolutionize content management on digital streaming platforms but also pave the way for data-driven decision-making in the entertainment industry."
   ]
  },
  {
   "cell_type": "markdown",
   "id": "891fa59c",
   "metadata": {},
   "source": [
    "## AIM AND OBJECTIVES"
   ]
  },
  {
   "cell_type": "markdown",
   "id": "2fb4335a",
   "metadata": {},
   "source": [
    "The primary aim of this project is to develop a predictive model that can accurately forecast the success of movies and shows on Netflix, helping to streamline content management and enhance user engagement. By integrating data from various sources, including Netflix’s extensive database and IMDb ratings, the project seeks to create a robust tool that can predict viewer preferences and content performance.\n",
    "\n",
    "##### Data Integration: \n",
    "To merge and clean datasets from Netflix and IMDb, creating a comprehensive dataset that includes key metrics like genre, viewer ratings, release dates, and regional availability.\n",
    "\n",
    "##### Feature Selection: \n",
    "To identify and select significant predictors of content success, focusing on variables such as genre, director, cast, IMDb scores, and viewer engagement metrics.\n",
    "\n",
    "##### Model Development: \n",
    "To explore and implement various machine learning algorithms, including Random Forest and K-Means clustering, to develop a predictive model capable of forecasting content success.\n",
    "\n",
    "##### Model Optimization: \n",
    "To refine the predictive models using techniques like cross-validation and grid search to achieve the highest possible accuracy and reliability.\n",
    "\n",
    "##### Performance Evaluation: \n",
    "To assess the model's effectiveness by comparing predicted success metrics against actual performance data, using accuracy, precision, recall as key metrics.\n",
    "\n",
    "##### Insight Extraction: \n",
    "To analyze the model's findings to draw actionable insights that can inform content acquisition, production, and recommendation strategies.\n",
    "\n",
    "##### Dashboard:\n",
    "We have created an real time dashboard where we have kept all our analysis. We have also integrated it with our model inorder to predict the success of the title."
   ]
  },
  {
   "cell_type": "markdown",
   "id": "1354bfe0",
   "metadata": {},
   "source": [
    "## DATA"
   ]
  },
  {
   "cell_type": "markdown",
   "id": "db3a460f",
   "metadata": {},
   "source": [
    "We prepared our data by merging two datasets obtained from Kaggle's Netflix titles and additional ratings from reputable sources like Rotten Tomatoes, and IMDb. This merging process was essential to combine valuable insights from both datasets, resulting in a more comprehensive dataset for analysis. The accessibility of the data was convenient as it was pre-collected and readily available, eliminating the need for extensive data collection efforts. Integration was facilitated by matching titles from both datasets, ensuring that all relevant information was included in the combined dataset. \n",
    "\n",
    "The dataset, derived from merged Netflix and IMDb data, includes crucial columns such as:\n",
    "\n",
    "-> title: The name of the show or movie.\n",
    "\n",
    "-> genre: The genre classification, which is key to understanding viewer preferences.\n",
    "\n",
    "-> release_year: Year of release, which helps in trend analysis.\n",
    "\n",
    "-> IMDb Score: Viewer ratings from IMDb, indicative of content popularity.\n",
    "\n",
    "-> Country Availability: Regions where the content is available, affecting viewer reach.\n",
    "\n",
    "These columns provide a comprehensive view of the content characteristics, crucial for predictive modeling.\n",
    "\n",
    "#### Target Variables:\n",
    "Our project mainly focused on predicting the success of shows and movies using data analytics, the target variables are the outcomes that the predictive models aim to forecast based on various input features from the data. Below are potential target variables that could be used in this project:\n",
    "\n",
    "##### IMDb Score: \n",
    "This is a direct measure of how viewers rate a show or movie on IMDb. Predicting the IMDb score can help understand how well a title might be received by the audience globally."
   ]
  },
  {
   "cell_type": "code",
   "execution_count": 1,
   "id": "a9c47bf0",
   "metadata": {},
   "outputs": [],
   "source": [
    "import pandas as pd\n",
    "import numpy as np\n",
    "from wordcloud import WordCloud, STOPWORDS\n",
    "import random\n",
    "import matplotlib.pyplot as plt\n",
    "import seaborn as sns\n",
    "from sklearn.feature_extraction.text import TfidfVectorizer\n",
    "from sklearn.cluster import KMeans\n",
    "from sklearn.linear_model import LinearRegression\n",
    "from sklearn.preprocessing import MinMaxScaler\n",
    "from sklearn.pipeline import Pipeline\n",
    "from sklearn.preprocessing import StandardScaler, OneHotEncoder\n",
    "from sklearn.metrics import mean_squared_error, r2_score\n",
    "from sklearn.impute import SimpleImputer\n",
    "from sklearn.compose import ColumnTransformer\n",
    "from sklearn.ensemble import RandomForestRegressor\n",
    "from sklearn.model_selection import train_test_split\n",
    "from sklearn.ensemble import RandomForestClassifier\n",
    "from sklearn.metrics import classification_report, accuracy_score"
   ]
  },
  {
   "cell_type": "markdown",
   "id": "81c06be4",
   "metadata": {},
   "source": [
    "### DATA IMPORT"
   ]
  },
  {
   "cell_type": "code",
   "execution_count": 2,
   "id": "bf5fd19c",
   "metadata": {},
   "outputs": [],
   "source": [
    "netflix_titles_df = pd.read_csv('netflix_titles.csv')\n",
    "netflix_imdb_df = pd.read_csv('netflix-imdb.csv')"
   ]
  },
  {
   "cell_type": "code",
   "execution_count": 3,
   "id": "4965dc7a",
   "metadata": {},
   "outputs": [],
   "source": [
    "print(\"netflix_titles_df Size : \")\n",
    "print(netflix_titles_df.shape[0])\n",
    "print(\"netflix_imdb_df Size : \")\n",
    "print(netflix_imdb_df.shape[0])"
   ]
  },
  {
   "cell_type": "code",
   "execution_count": 4,
   "id": "0e9dff7b",
   "metadata": {},
   "outputs": [],
   "source": [
    "netflix_titles_df.head()"
   ]
  },
  {
   "cell_type": "code",
   "execution_count": 5,
   "id": "e95ca053",
   "metadata": {},
   "outputs": [],
   "source": [
    "netflix_imdb_df.head()"
   ]
  },
  {
   "cell_type": "markdown",
   "id": "5cb669d3",
   "metadata": {},
   "source": [
    "### DATA CLEANING"
   ]
  },
  {
   "cell_type": "markdown",
   "id": "725392c0",
   "metadata": {},
   "source": [
    "In this project, the data cleaning process involves addressing missing or incomplete data entries across various columns in the dataset. This ensures the integrity and usability of the data for further analysis and model building. Here’s a breakdown of the specific cleaning steps being undertaken:\n",
    "\n",
    "##### Handling Missing Directors: \n",
    "The 'director' column is crucial for understanding the impact of directorial influence on the success of titles. By replacing missing values with 'Unknown', we maintain the structural integrity of the dataset without discarding rows that might still offer valuable information in other fields.\n",
    "\n",
    "#####  Filling in Missing Cast Information: \n",
    "Similar to the director, the cast plays a significant role in the title's popularity and success. By filling missing entries with 'Unknown', we avoid losing data points while acknowledging that the information is incomplete. This can later be adjusted if more information becomes available.\n",
    "\n",
    "#####  Addressing Missing Country Data: \n",
    "The country of origin or the country data field can provide insights into regional popularity and production quality, which are relevant to content success. Filling missing values with 'Unknown' allows for continuous analysis without biasing the dataset toward titles with complete location data.\n",
    "\n",
    "#####  Standardizing Date Added Entries: \n",
    "The date when a title was added to the platform is essential for analyzing trends over time and viewer engagement upon release. Filling missing 'date added' values with 'Unknown' helps in maintaining records but marks them clearly for potentially biased analysis in time-series or trend analysis.\n",
    "\n",
    "##### Completing Rating Information:\n",
    "Ratings influence viewer choice and satisfaction. By filling missing ratings with 'Unknown', the dataset remains comprehensive for exploratory analysis, and these entries can be easily filtered out during predictive modeling if necessary.\n",
    "\n",
    "Cleaning data ensures that the analyses performed are accurate and the predictions made by machine learning models are reliable.Machine learning models perform better when trained on clean data as it reduces noise and focuses learning on actual trends rather than anomalies."
   ]
  },
  {
   "cell_type": "code",
   "execution_count": 6,
   "id": "a1d492ab",
   "metadata": {},
   "outputs": [],
   "source": [
    "#Cleaning the data\n",
    "netflix_titles_df['director'].fillna('Unknown', inplace=True)\n",
    "netflix_titles_df['cast'].fillna('Unknown', inplace=True)\n",
    "netflix_titles_df['country'].fillna('Unknown', inplace=True)\n",
    "netflix_titles_df['date_added'].fillna('Unknown', inplace=True)\n",
    "netflix_titles_df['rating'].fillna('Unknown', inplace=True)"
   ]
  },
  {
   "cell_type": "code",
   "execution_count": 7,
   "id": "0a072899",
   "metadata": {},
   "outputs": [],
   "source": [
    "types = netflix_titles_df['type'].value_counts()\n",
    "types"
   ]
  },
  {
   "cell_type": "code",
   "execution_count": 8,
   "id": "c203dbe9",
   "metadata": {},
   "outputs": [],
   "source": [
    "country_origin = netflix_titles_df['country'].value_counts()\n",
    "country_origin"
   ]
  },
  {
   "cell_type": "markdown",
   "id": "fb533a5e",
   "metadata": {},
   "source": [
    "### DATA MERGING"
   ]
  },
  {
   "cell_type": "code",
   "execution_count": 9,
   "id": "a9355134",
   "metadata": {},
   "outputs": [],
   "source": [
    "final_df = netflix_titles_df.merge(netflix_imdb_df, on='title', how='inner')"
   ]
  },
  {
   "cell_type": "code",
   "execution_count": 10,
   "id": "045a09a7",
   "metadata": {},
   "outputs": [],
   "source": [
    "final_df.head()"
   ]
  },
  {
   "cell_type": "code",
   "execution_count": 11,
   "id": "8ddc831c",
   "metadata": {},
   "outputs": [],
   "source": [
    "#droping redundant columns\n",
    "columns_to_drop = [\"Netflix Release Date\", \"Series or Movie\", \"Director\", \"Actors\", \"View Rating\", \"Rotten Tomatoes Score\", \"Metacritic Score\", \"Release Date\", \"Summary\"] \n",
    "\n",
    "final_df = final_df.drop(columns=columns_to_drop)\n",
    "final_df.to_csv('final_df.csv', index=False)\n",
    "num_rows = final_df.shape[0]\n",
    "print(\"Number of rows in final_merged_df:\", num_rows)"
   ]
  },
  {
   "cell_type": "markdown",
   "id": "8543231d",
   "metadata": {},
   "source": [
    "### Top 10 countries with the most content"
   ]
  },
  {
   "cell_type": "code",
   "execution_count": 12,
   "id": "bf614af0",
   "metadata": {},
   "outputs": [],
   "source": [
    "#top 10 countries with the most content\n",
    "country_counts = final_df['country'].value_counts().head(10)\n",
    "top_countries_data = final_df[final_df['country'].isin(country_counts.index)]\n",
    "country_counts"
   ]
  },
  {
   "cell_type": "markdown",
   "id": "8db5b0fe",
   "metadata": {},
   "source": [
    "## VISUALIZATIONS AND ANALYSIS"
   ]
  },
  {
   "cell_type": "markdown",
   "id": "51faa020",
   "metadata": {},
   "source": [
    "### VISUALIZATION 1 - Contributed By Rohith"
   ]
  },
  {
   "cell_type": "markdown",
   "id": "c3f94ee2",
   "metadata": {},
   "source": [
    "This visualization highlighted the growth in the number of Movies and TV Shows on Netflix over time. The increasing trend in both categories, especially the notable surge in movies around the 2010s, suggests Netflix's expanding library and possibly a strategic shift towards offering a more diverse set of content. This shift might be in response to evolving viewer preferences and the competitive streaming landscape."
   ]
  },
  {
   "cell_type": "code",
   "execution_count": 13,
   "id": "e650483e",
   "metadata": {},
   "outputs": [],
   "source": [
    "type_distribution = final_df.groupby(['release_year', 'type']).size().unstack(fill_value=0)\n",
    "filtered_type_distribution = type_distribution[type_distribution.index >= 2000]\n",
    "filtered_type_distribution.plot(kind='bar', stacked=True, figsize=(14, 8), color=['red', 'black'])\n",
    "plt.title('Distribution of Netflix Content by Type Over the Years (2000 - Present)')\n",
    "plt.xlabel('Release Year')\n",
    "plt.ylabel('Count of Titles')\n",
    "plt.legend(title='Type')\n",
    "plt.xticks(rotation=45)\n",
    "plt.tight_layout()\n",
    "\n",
    "# Show plot\n",
    "plt.show()"
   ]
  },
  {
   "cell_type": "markdown",
   "id": "2e7abdb2",
   "metadata": {},
   "source": [
    "### VISUALIZATION 2 - Contributed By Rithwik"
   ]
  },
  {
   "cell_type": "markdown",
   "id": "94e92a69",
   "metadata": {},
   "source": [
    "The box plot shows IMDb score distributions across various Netflix genres, the hypothesis could be exploring the quality of content as seen by viewers across different genres. The intent of this analysis is to identify which genres consistently deliver content that is highly rated, as well as to understand the range and distribution of viewer opinions within each genre. Such insights can be useful for Netflix's decisions regarding which genres to invest in and what type of content to prioritize in order to maintain high viewer satisfaction and engagement. The dots outside the boxes seen are the outliers. They represent IMDb scores that fall outside the typical range (IQR), either unusually high or low compared to the bulk of scores in that genre."
   ]
  },
  {
   "cell_type": "code",
   "execution_count": 14,
   "id": "194bae4f",
   "metadata": {},
   "outputs": [],
   "source": [
    "exploded_genres = final_df.assign(listed_in=final_df['listed_in'].str.split(', ')).explode('listed_in')\n",
    "filtered_genres = exploded_genres[exploded_genres['IMDb Score'].notnull()]\n",
    "\n",
    "# Focus on the top 10 most common genres\n",
    "top_genres = filtered_genres['listed_in'].value_counts().head(10).index\n",
    "filtered_genres_top = filtered_genres[filtered_genres['listed_in'].isin(top_genres)]\n",
    "\n",
    "# Plotting\n",
    "plt.figure(figsize=(16, 8))\n",
    "sns.boxplot(data=filtered_genres_top, x='IMDb Score', y='listed_in', palette=[\"red\", \"black\"])\n",
    "plt.title('IMDb Score Distribution Across Top 10 Netflix Genres')\n",
    "plt.xlabel('IMDb Score')\n",
    "plt.ylabel('Genre')\n",
    "plt.tight_layout()\n",
    "plt.show()"
   ]
  },
  {
   "cell_type": "markdown",
   "id": "84dfe7bd",
   "metadata": {},
   "source": [
    "### VISUALIZATION 3 - Contributed By Rohith"
   ]
  },
  {
   "cell_type": "markdown",
   "id": "5fb7872c",
   "metadata": {},
   "source": [
    "Placing these histograms side by side offers a comparative view of content longevity and investment on Netflix. While movies provide a one-off entertainment experience, TV shows require a more extended commitment from viewers and creators alike. The significant number of movies and the preponderance of TV shows with fewer seasons underscore Netflix's dual strategy: maintaining a broad movie library to cater to diverse tastes and experimenting with TV series to cultivate dedicated viewership over multiple seasons.Netflix's content portfolio, as suggested by these distributions, might be strategically designed to balance between offering a wide variety of one-time cinematic experiences and developing serialized content that has the potential to build a loyal viewer base over time.Overall, these visualizations shed light on the structure of Netflix's content offerings, suggesting strategic choices in content creation and acquisition to meet diverse viewer preferences and enhance the platform's appeal."
   ]
  },
  {
   "cell_type": "code",
   "execution_count": 15,
   "id": "86023b88",
   "metadata": {},
   "outputs": [],
   "source": [
    "movies_df = final_df[final_df['type'] == 'Movie'].copy() \n",
    "movies_df['duration_min'] = movies_df['duration'].str.extract('(\\d+)').astype(float)\n",
    "\n",
    "tv_shows_df = final_df[final_df['type'] == 'TV Show'].copy()  \n",
    "tv_shows_df['season_count'] = tv_shows_df['duration'].str.extract('(\\d+)').astype(float)\n",
    "\n",
    "fig, axs = plt.subplots(1, 2, figsize=(16, 6))\n",
    "\n",
    "# Histogram for movie durations on the left\n",
    "axs[0].hist(movies_df['duration_min'], bins=30, color='red', alpha=0.7)\n",
    "axs[0].set_title('Distribution of Movie Durations on Netflix')\n",
    "axs[0].set_xlabel('Duration (minutes)')\n",
    "axs[0].set_ylabel('Number of Movies')\n",
    "axs[0].grid(axis='y')\n",
    "\n",
    "# Histogram for TV show season counts on the right\n",
    "axs[1].hist(tv_shows_df['season_count'], bins=range(1, int(tv_shows_df['season_count'].max()) + 1), color='black', alpha=0.7)\n",
    "axs[1].set_title('Distribution of TV Show Season Counts on Netflix')\n",
    "axs[1].set_xlabel('Season Count')\n",
    "axs[1].set_ylabel('Number of TV Shows')\n",
    "axs[1].grid(axis='y')\n",
    "\n",
    "# Adjusting layout for better spacing\n",
    "plt.tight_layout()\n",
    "\n",
    "# Display the histograms\n",
    "plt.show()\n"
   ]
  },
  {
   "cell_type": "markdown",
   "id": "69527ce1",
   "metadata": {},
   "source": [
    "### VISUALIZATION 4 - Contributed By Rithwik"
   ]
  },
  {
   "cell_type": "markdown",
   "id": "fb6a06bb",
   "metadata": {},
   "source": [
    "This is a word cloud for the horror genre, which is a visual representation of text data where the size of each word indicates its frequency or importance within a certain context—in this case, likely keywords associated with horror movies or TV shows on a platform such as Netflix. Prominent words like \"horror,\" \"mysterious,\" \"supernatural,\" and \"family,\" among others, suggest common themes and elements that audiences might expect from horror content. The hypothesis behind creating such a word cloud could be to visually analyze and present the most frequent elements or themes that define the horror genre on netflix. This can help content creators and marketers to understand popular tropes within the genre and tailor their productions and promotions to match audience expectations and trends."
   ]
  },
  {
   "cell_type": "code",
   "execution_count": 16,
   "id": "f688fe3a",
   "metadata": {},
   "outputs": [],
   "source": [
    "# Choosing the spcific genre\n",
    "selected_genre = 'Horror'\n",
    "\n",
    "genre_df = final_df[final_df['listed_in'].str.contains(selected_genre, case=False, na=False)]\n",
    "\n",
    "descriptions = ' '.join(genre_df['description'].dropna().values).lower()\n",
    "\n",
    "stopwords = set(STOPWORDS)\n",
    "\n",
    "def red_black_color_func(word, font_size, position, orientation, random_state=None, **kwargs):\n",
    "    return \"hsl(0, 100%%, %d%%)\" % random.randint(10, 50)\n",
    "\n",
    "wordcloud = WordCloud(width=800, height=400, background_color='black', stopwords=stopwords, max_words=100, color_func=red_black_color_func).generate(descriptions)\n",
    "\n",
    "plt.figure(figsize=(10, 5))\n",
    "plt.imshow(wordcloud, interpolation='bilinear')\n",
    "plt.axis('off')\n",
    "plt.title(f'Word Cloud for {selected_genre} Genre')\n",
    "plt.show()"
   ]
  },
  {
   "cell_type": "code",
   "execution_count": 17,
   "id": "0280091e",
   "metadata": {},
   "outputs": [],
   "source": [
    "# Filtering the dataset for titles in the \"Horror\" genre with \"family\" in the title or description\n",
    "horror_family_in_titles_or_descriptions = final_df[(final_df['listed_in'].str.contains(\"Horror\", case=False, na=False)) & \n",
    "                                                   (final_df['title'].str.contains(\"family\", case=False, na=False) |\n",
    "                                                    final_df['description'].str.contains(\"family\", case=False, na=False))]\n",
    "\n",
    "# Listing all the titles that match the criteria\n",
    "horror_family_in_titles_or_descriptions_list = horror_family_in_titles_or_descriptions['title'].tolist()\n",
    "\n",
    "horror_family_in_titles_or_descriptions_list"
   ]
  },
  {
   "cell_type": "markdown",
   "id": "5c15929c",
   "metadata": {},
   "source": [
    "The presence and size of \"family\" in the word cloud indicate its frequency in the descriptions of horror titles, not necessarily in the titles themselves. Even if \"Family Blood\" is the only title with \"family\" in it, the word could be a common theme or keyword used across multiple descriptions within the horror genre. This suggests that the concept of \"family\" is a significant theme explored in the descriptions of horror content on Netflix, potentially indicating plots that involve family dynamics or settings. Word clouds analyze the frequency of words in text data (in this case, descriptions), hence \"family\" appearing prominently reflects its repeated mention in the context provided, rather than its appearance in titles."
   ]
  },
  {
   "cell_type": "markdown",
   "id": "ce38f8c9",
   "metadata": {},
   "source": [
    "### VISUALIZATION 5 - Contributed By Asritha"
   ]
  },
  {
   "cell_type": "markdown",
   "id": "a6eef6c4",
   "metadata": {},
   "source": [
    "Average IMDb Score by Primary Genre\n",
    "Hypothesis: The success of new titles can be partially predicted by their genre, with certain genres consistently performing better in terms of viewer ratings.\n",
    "Explanation: This bar chart displays the average IMDb score (used as a proxy for title success) for various primary genres. Higher average scores suggest that titles within these genres tend to be received more favorably by audiences, potentially indicating a safer investment for new productions.\n",
    "Why It's Interesting: By understanding which genres are more likely to yield successful titles, Netflix can make informed decisions about which types of new content to develop or acquire. This insight can guide strategic planning and resource allocation to maximize audience engagement and satisfaction.\n",
    "Responsible Member: Casey, focusing on predicting the success of new titles, would find this analysis invaluable. It provides a data-driven basis for forecasting the potential reception of titles based on their genre, aiding in the strategic selection of content."
   ]
  },
  {
   "cell_type": "code",
   "execution_count": 18,
   "id": "f00d286b",
   "metadata": {},
   "outputs": [],
   "source": [
    "final_df['Primary Genre'] = final_df['Genre'].apply(lambda x: x.split(',')[0] if pd.notnull(x) else 'Unknown')\n",
    "\n",
    "# Calculating the average IMDb score (using 'Hidden Gem Score' as a proxy here) by primary genre\n",
    "avg_imdb_score_by_genre = final_df.groupby('Primary Genre')['Hidden Gem Score'].mean().sort_values(ascending=False)\n",
    "\n",
    "plt.figure(figsize=(12, 8))\n",
    "avg_imdb_score_by_genre.plot(kind='bar', color='#E50914')  # Netflix red\n",
    "plt.title('Average IMDb Score by Primary Genre')\n",
    "plt.xlabel('Primary Genre')\n",
    "plt.ylabel('Average IMDb Score')\n",
    "plt.xticks(rotation=45, ha='right')\n",
    "\n",
    "plt.tight_layout()\n",
    "plt.show()"
   ]
  },
  {
   "cell_type": "markdown",
   "id": "ce57e48c",
   "metadata": {},
   "source": [
    "### VISUALIZATION 6 - Contributed By Sanjna"
   ]
  },
  {
   "cell_type": "markdown",
   "id": "b8fb85c8",
   "metadata": {},
   "source": [
    "The scatter plot of viewer ratings (IMDb Score) against the release year for Netflix titles offers a way to assess the perceived quality of content over time. This visualization can uncover insights such as:\n",
    "Content Quality Over Time: By observing the distribution of ratings across different release years, you can evaluate whether the quality of content, as rated by viewers, has been consistent, improved, or declined over time.\n",
    "High-Quality Content Identification: Identifying titles with high ratings across different eras can help pinpoint standout content, which can be further analyzed to understand the characteristics of successful titles.\n"
   ]
  },
  {
   "cell_type": "code",
   "execution_count": 19,
   "id": "26c07dca",
   "metadata": {},
   "outputs": [],
   "source": [
    "final_df_filtered = final_df.replace('Unknown', np.nan).dropna(subset=['IMDb Score', 'release_year'])\n",
    "\n",
    "final_df_filtered['IMDb Score'] = pd.to_numeric(final_df_filtered['IMDb Score'])\n",
    "\n",
    "plt.figure(figsize=(14, 8))\n",
    "sns.scatterplot(data=final_df_filtered, x='release_year', y='IMDb Score', alpha=0.6, edgecolor=None, color='red')\n",
    "plt.title('Viewer Ratings (IMDb Score) vs. Release Year for Netflix Titles', fontsize=16)\n",
    "plt.xlabel('Release Year', fontsize=14)\n",
    "plt.ylabel('IMDb Score', fontsize=14)\n",
    "plt.grid(True)\n",
    "plt.show()"
   ]
  },
  {
   "cell_type": "markdown",
   "id": "d6ca944c",
   "metadata": {},
   "source": [
    "### VISUALIZATION 7 - Contributed By Bhargavaram"
   ]
  },
  {
   "cell_type": "markdown",
   "id": "1a0aceb4",
   "metadata": {},
   "source": [
    "The bubble chart visualizes the number of shows or movies released per year, with each bubble's size proportional to the release count. This type of visualization is quite effective for showing the volume of output in a given year relative to others, as the differences are immediately apparent through bubble size.\n",
    "\n",
    "Insights from the Bubble Chart:\n",
    "\n",
    "The trend shows a relatively low and stable number of releases from the 1950s up to around the late 1990s.\n",
    "Starting in the late 1990s, there's a noticeable upward trend in the number of releases.\n",
    "There is a particularly large increase in releases in recent years, with the largest bubbles appearing towards the right side of the chart, indicating a possible boom in the industry or a change in the way content is produced and released (such as the rise of streaming services).\n",
    "\n",
    "Problems Addressed:\n",
    "\n",
    "Industry Growth: The chart could be addressing the problem of visualizing the growth of the film and TV industry over time.\n",
    "Content Production Analysis: It also aims at analyzing how content production has responded to technological changes and market demand.\n",
    "\n",
    "Content Production Analysis: It aims at analyzing how content production has responded to technological changes and market demand.\n",
    "\n",
    "Reasons for Choosing a Bubble Chart:\n",
    "\n",
    "Visual Impact: The bubble chart provides a visual impact that highlights the volume difference more dramatically than a line or bar chart could.\n",
    "Data Representation: It allows for an additional dimension (size of the bubble) to represent data, in this case, the number of releases, which can be more engaging and informative.\n",
    "\n",
    "Reflection on the Visualization:\n",
    "Scalability: The size of the bubbles are carefully scaled so that they represent the data accurately without overwhelming the chart.\n",
    "Data Source Reliability: Considering the reliability and completeness of the data source, as the sharp increase in recent years may reflect changes in data collection methods or market disruptions."
   ]
  },
  {
   "cell_type": "code",
   "execution_count": 20,
   "id": "70e255bd",
   "metadata": {},
   "outputs": [],
   "source": [
    "release_counts = final_df['release_year'].value_counts().sort_index()\n",
    "plt.figure(figsize=(12, 6))\n",
    "bubble_sizes = release_counts * 10 \n",
    "plt.scatter(release_counts.index, release_counts.values, s=bubble_sizes, alpha=0.5, color='red')\n",
    "plt.title('Number of Shows/Movies Released per Year (Bubble Chart)')\n",
    "plt.xlabel('Year')\n",
    "plt.ylabel('Number of Releases')\n",
    "plt.grid(True)\n",
    "plt.tight_layout()\n",
    "plt.show()"
   ]
  },
  {
   "cell_type": "markdown",
   "id": "4bc2275e",
   "metadata": {},
   "source": [
    "## Machine Learning Analysis"
   ]
  },
  {
   "cell_type": "markdown",
   "id": "049f0ea4",
   "metadata": {},
   "source": [
    "#### Machine Learning Analysis - 1"
   ]
  },
  {
   "cell_type": "markdown",
   "id": "caf27436",
   "metadata": {},
   "source": [
    "#### Can we forecast future trends in the types of content (genres, themes) that will be added to Netflix, based on historical data? - Contributed By Rohith and Rithwik."
   ]
  },
  {
   "cell_type": "code",
   "execution_count": 21,
   "id": "768a4704",
   "metadata": {},
   "outputs": [],
   "source": [
    "# Data cleaning and preparation\n",
    "final_df['date_added'] = pd.to_datetime(final_df['date_added'], errors='coerce')\n",
    "final_df = final_df.dropna(subset=['date_added'])\n",
    "final_df['year_added'] = final_df['date_added'].dt.year\n",
    "\n",
    "# Feature engineering: Text features vectorization\n",
    "final_df['text_features'] = final_df['listed_in'].fillna('') + ' ' + final_df['description'].fillna('')\n",
    "vectorizer = TfidfVectorizer(stop_words='english', max_features=1000)\n",
    "X = vectorizer.fit_transform(final_df['text_features'])\n",
    "\n",
    "# Optimal cluster determination and clustering\n",
    "optimal_clusters = 5 \n",
    "kmeans = KMeans(n_clusters=optimal_clusters, random_state=42, n_init=10)\n",
    "final_df['cluster'] = kmeans.fit_predict(X)\n",
    "\n",
    "# Pie chart for the cluster distribution\n",
    "cluster_distribution = final_df['cluster'].value_counts(normalize=True)\n",
    "plt.figure(figsize=(8, 8))\n",
    "plt.pie(cluster_distribution, labels=cluster_distribution.index, autopct='%1.1f%%', startangle=90)\n",
    "plt.title('Cluster Distribution')\n",
    "plt.show()\n",
    "\n",
    "# Temporal distribution of clusters\n",
    "yearly_cluster_distribution = final_df.groupby(['year_added', 'cluster']).size().unstack(fill_value=0)\n",
    "\n",
    "# Normalization for comparison\n",
    "scaler = MinMaxScaler()\n",
    "normalized_cluster_distribution = scaler.fit_transform(yearly_cluster_distribution)\n",
    "normalized_cluster_distribution = pd.DataFrame(normalized_cluster_distribution, \n",
    "                                               index=yearly_cluster_distribution.index, \n",
    "                                               columns=yearly_cluster_distribution.columns)\n",
    "\n",
    "# Multiline graph for temporal distribution\n",
    "plt.figure(figsize=(14, 7))\n",
    "for cluster in range(optimal_clusters):\n",
    "    plt.plot(normalized_cluster_distribution.index, normalized_cluster_distribution[cluster], label=f'Cluster {cluster}')\n",
    "plt.title('Normalized Temporal Distribution of Content Clusters')\n",
    "plt.xlabel('Year')\n",
    "plt.ylabel('Normalized Number of Titles')\n",
    "plt.legend()\n",
    "plt.show()\n",
    "\n",
    "# Forecasting with Linear Regression\n",
    "X = normalized_cluster_distribution.index.values.reshape(-1, 1)\n",
    "future_years = np.arange(X[-1][0] + 1, X[-1][0] + 6).reshape(-1, 1)\n",
    "forecasts = {}\n",
    "\n",
    "for cluster in range(optimal_clusters):\n",
    "    y = normalized_cluster_distribution[cluster].values\n",
    "    model = LinearRegression()\n",
    "    model.fit(X, y)\n",
    "    prediction = model.predict(future_years)\n",
    "    forecasts[cluster] = prediction\n",
    "    plt.plot(list(range(X[-1][0], X[-1][0] + 6)), np.concatenate([y[-1:], prediction]), '--', label=f'Forecast Cluster {cluster}')\n",
    "\n",
    "\n",
    "plt.xlabel('Year') \n",
    "plt.ylabel('Normalized Number of Titles')\n",
    "plt.legend()\n",
    "plt.show()\n",
    "\n",
    "for cluster, forecast in forecasts.items():\n",
    "    print(f'Predictions for Cluster {cluster}: {forecast}')\n"
   ]
  },
  {
   "cell_type": "markdown",
   "id": "bf363079",
   "metadata": {},
   "source": [
    "##### Cluster Distribution Pie Chart\n",
    "This chart shows the proportion of Netflix titles that fall into each cluster at the last point in the dataset. The clusters were determined through K-means clustering, which groups titles based on similarity in features derived from genre and description data. The pie chart indicates which types of content are most common on Netflix, with the larger slices representing more commonly occurring themes or genres.\n",
    "##### Normalized Temporal Distribution of Content Clusters Line Chart\n",
    "The line chart plots the normalized count of titles in each cluster over time, allowing for a comparison of trends across clusters regardless of their sizes. This visualization shows how the presence of each content type has evolved over the years on Netflix. Peaks may indicate times when specific themes or genres were particularly popular or heavily added to Netflix's library.\n",
    "##### Cluster Forecasts Line Chart\n",
    "This chart presents the predictions for the normalized size of each cluster for the next five years, obtained through linear regression modeling. These predictions are based on past trends and assume that the historical linear trend will continue into the future. The dotted lines extending from the last historical data point for each cluster represent these forecasts.\n",
    "##### Insights from the Graphs\n",
    "Dominant Content Types: The pie chart and the historical data part of the line chart may reveal certain content types that Netflix has focused on in the past.\n",
    "Content Trends: The historical trends can indicate shifts in Netflix's content strategy, showing which types of content are gaining or losing prominence.\n",
    "Predicted Changes: The forecast shows an expected increase in normalized sizes for all clusters. This suggests that each cluster's themes or genres are expected to grow in proportion relative to the maximum size observed in the data, which may inform strategic decisions about content creation and acquisition.\n",
    "\n",
    "\n",
    "##### Interpretation of Results and Baseline Comparison\n",
    "\n",
    "Baseline Comparison: The linear regression model used for forecasting provides a baseline for comparison. \n",
    "\n",
    "Results: The results obtained helps understanding that ML models, especially those based on simple linear trends, have limitations. They cannot account for sudden changes in industry trends, viewer preferences, or strategic shifts by Netflix that diverge from historical patterns.\n",
    "##### Final Thoughts\n",
    "Overall, these analyses can be valuable for Netflix or content creators in predicting future content strategies based on historical data. which helps in answewring the question like; Can we forecast future trends in the types of content (genres, themes) that will be added to Netflix, based on historical data?"
   ]
  },
  {
   "cell_type": "markdown",
   "id": "1dda5225",
   "metadata": {},
   "source": [
    "### Machine Learning Analysis - 2"
   ]
  },
  {
   "cell_type": "markdown",
   "id": "756512ef",
   "metadata": {},
   "source": [
    "### Can we predict the success of the title ? - Contributed By Asritha and Sanjna."
   ]
  },
  {
   "cell_type": "code",
   "execution_count": null,
   "id": "1233176c",
   "metadata": {},
   "outputs": [],
   "source": [
    "final_df = final_df.dropna(subset=['IMDb Score'])\n",
    "\n",
    "final_df['genre'] = final_df['listed_in'].apply(lambda x: ','.join(x) if isinstance(x, list) else x)\n",
    "final_df['Country Availability'] = final_df['Country Availability'].apply(lambda x: ','.join(x) if isinstance(x, list) else x)\n",
    "final_df['Boxoffice'] = final_df['Boxoffice'].replace('[\\$,]', '', regex=True).astype(float)\n",
    "\n",
    "features = ['Hidden Gem Score','Boxoffice','rating','title','Writer','Languages','IMDb Votes','release_year','Production House','Awards Nominated For','Awards Received','type','listed_in','Country Availability', 'director', 'cast', 'country']\n",
    "X = final_df[features]\n",
    "y = final_df['IMDb Score']  \n",
    "\n",
    "numeric_features = ['Hidden Gem Score','Boxoffice','release_year','IMDb Votes']\n",
    "numeric_transformer = Pipeline(steps=[\n",
    "    ('imputer', SimpleImputer(strategy='median')),  \n",
    "    ('scaler', StandardScaler())\n",
    "])\n",
    "\n",
    "categorical_features = ['rating','title','Writer','Languages','Production House','Awards Nominated For','Awards Received', 'type', 'Country Availability', 'director', 'cast', 'country']\n",
    "categorical_transformer = OneHotEncoder(handle_unknown='ignore')\n",
    " \n",
    "preprocessor = ColumnTransformer(\n",
    "    transformers=[('num', numeric_transformer, numeric_features),\n",
    "        ('cat', categorical_transformer, categorical_features)\n",
    "    ])\n",
    "\n",
    "model = RandomForestRegressor(n_estimators=100, random_state=42)\n",
    "\n",
    "pipeline = Pipeline(steps=[('preprocessor', preprocessor),\n",
    "                           ('model', model)])\n",
    "\n",
    "X_train, X_test, y_train, y_test = train_test_split(X, y, test_size=0.2, random_state=42)\n",
    "\n",
    "pipeline.fit(X_train, y_train)\n",
    "\n",
    "y_pred = pipeline.predict(X_test)\n",
    "mse = mean_squared_error(y_test, y_pred)\n",
    "r2 = r2_score(y_test, y_pred)\n",
    "print(f'Mean Squared Error: {mse}')\n",
    "print(f'R² Score: {r2}')\n",
    "n = X_test.shape[0]  \n",
    "p = X_test.shape[1]  \n",
    "adjusted_r2 = 1 - (1-r2) * (n - 1) / (n - p - 1)\n",
    "print(f'Adjusted R² Score: {adjusted_r2}')"
   ]
  },
  {
   "cell_type": "markdown",
   "id": "37efe8a3",
   "metadata": {},
   "source": [
    "Determining whether a Netflix title has a high IMDb score (defined as IMDb score >= 7.0) based on features such as 'Hidden Gem Score', 'IMDb Votes', 'Awards Received', 'Awards Nominated For', 'Boxoffice', 'type', 'director', 'cast', 'country', 'release_year', 'rating', and 'listed_in'. This model employed for this task is a Random Forest Classifier. The evaluation metrics used are Accuracy and Classification Report metrics (Precision, Recall, F1-score). The objective here is to develop a classification model that accurately predicts whether a Netflix title will have a high IMDb score or not."
   ]
  },
  {
   "cell_type": "code",
   "execution_count": null,
   "id": "28cf3d41",
   "metadata": {},
   "outputs": [],
   "source": [
    "def compute_dynamic_placeholders():\n",
    "    # Assuming `final_df` is globally accessible or passed as a parameter\n",
    "    numeric_features = ['Hidden Gem Score', 'IMDb Votes', 'Awards Received', 'Awards Nominated For', 'Boxoffice']\n",
    "    categorical_features = ['cast', 'release_year', 'rating', 'listed_in']\n",
    "    placeholders = {\n",
    "        **{feature: final_df[feature].median() if final_df[feature].dtype in ['float64', 'int64'] else final_df[feature].mode()[0] for feature in numeric_features},\n",
    "        **{feature: final_df[feature].mode()[0] for feature in categorical_features}\n",
    "    }\n",
    "    return placeholders\n",
    "\n",
    "def collect_user_input():\n",
    "    print(\"Please enter the details for the prediction:\")\n",
    "    user_input = {\n",
    "        'type': input(\"Enter type (Movie/TV Show): \"),\n",
    "        'director': input(\"Enter director: \"),\n",
    "        'country': input(\"Enter country: \"),\n",
    "        'Genre': input(\"Enter genre: \")\n",
    "    }\n",
    "    return user_input\n",
    "\n",
    "def predict_imdb_score_with_placeholders(user_input):\n",
    "    placeholders = compute_dynamic_placeholders()\n",
    "    \n",
    "    full_input = {**placeholders, **user_input}\n",
    "    input_df = pd.DataFrame([full_input])\n",
    "    \n",
    "    predicted_score = regression_pipeline.predict(input_df)\n",
    "    return predicted_score[0] \n",
    "\n",
    "user_input = collect_user_input()\n",
    "\n",
    "predicted_imdb_score = predict_imdb_score_with_placeholders(user_input)\n",
    "print(f\"Predicted IMDb Score: {predicted_imdb_score:.2f}\")"
   ]
  },
  {
   "cell_type": "markdown",
   "id": "2a42b752",
   "metadata": {},
   "source": [
    "### Machine Learning Analysis - 3"
   ]
  },
  {
   "cell_type": "markdown",
   "id": "461b9e4e",
   "metadata": {},
   "source": [
    " The aim here is to build a predictive model that can accurately estimate the IMDb scores of Netflix titles using available features. We are predicting IMDb scores of Netflix titles based on various features such as 'Hidden Gem Score', 'Boxoffice', 'rating', 'director', 'cast', 'country', etc. This model uses a Random Forest Regressor. The evaluation metrics used are Mean Squared Error (MSE), R² Score, and Adjusted R² Score. Contributed By Asritha and Bhargavaram."
   ]
  },
  {
   "cell_type": "code",
   "execution_count": 24,
   "id": "d1cc5371",
   "metadata": {},
   "outputs": [],
   "source": [
    "if final_df['duration'].dtype == object:\n",
    "    final_df['duration'] = final_df['duration'].str.extract('(\\d+)').astype(float)\n",
    "\n",
    "final_df['Boxoffice'] = final_df['Boxoffice'].replace('Unknown', pd.NA)\n",
    "final_df['Boxoffice'] = pd.to_numeric(final_df['Boxoffice'], errors='coerce')\n",
    "final_df['Boxoffice'].fillna(final_df['Boxoffice'].median(), inplace=True)\n",
    "\n",
    "numeric_features = ['Hidden Gem Score', 'IMDb Votes', 'Awards Received', 'Awards Nominated For', 'Boxoffice']\n",
    "categorical_features = ['type', 'director', 'cast', 'country', 'release_year', 'rating', 'listed_in', 'Genre']\n",
    "\n",
    "placeholders = {feature: final_df[feature].median() if final_df[feature].dtype in ['float64', 'int64'] else final_df[feature].mode()[0] for feature in numeric_features + categorical_features}\n",
    "\n",
    "selected_features = numeric_features + categorical_features\n",
    "X = final_df[selected_features]\n",
    "y = final_df['IMDb Score']\n",
    "\n",
    "numeric_transformer = Pipeline(steps=[\n",
    "    ('imputer', SimpleImputer(strategy='median')),\n",
    "    ('scaler', StandardScaler())\n",
    "])\n",
    "categorical_transformer = Pipeline(steps=[\n",
    "    ('imputer', SimpleImputer(strategy='constant', fill_value='missing')),\n",
    "    ('onehot', OneHotEncoder(handle_unknown='ignore'))\n",
    "])\n",
    "\n",
    "preprocessor = ColumnTransformer(\n",
    "    transformers=[\n",
    "        ('num', numeric_transformer, numeric_features),\n",
    "        ('cat', categorical_transformer, categorical_features)\n",
    "    ],\n",
    "    remainder='drop'\n",
    ")\n",
    "\n",
    "regression_pipeline = Pipeline(steps=[\n",
    "    ('preprocessor', preprocessor),\n",
    "    ('regressor', RandomForestRegressor(random_state=42))\n",
    "])\n",
    "\n",
    "X_train, X_test, y_train, y_test = train_test_split(X, y, test_size=0.2, random_state=42)\n",
    "\n",
    "regression_pipeline.fit(X_train, y_train)\n",
    "\n",
    "y_pred = regression_pipeline.predict(X_test)\n",
    "\n",
    "mse = mean_squared_error(y_test, y_pred)\n",
    "r2 = r2_score(y_test, y_pred)\n",
    "\n",
    "print(\"Mean Squared Error:\", mse)\n",
    "print(\"R² Score:\", r2)"
   ]
  },
  {
   "cell_type": "markdown",
   "id": "76eb49b2",
   "metadata": {},
   "source": [
    "### Machine Learning Analysis - 4"
   ]
  },
  {
   "cell_type": "markdown",
   "id": "832128bd",
   "metadata": {},
   "source": [
    "#### Can we predict whether a title is a Movie or a TV Show based on features like country, release_year, and IMDb Score Contributed By Sanjna."
   ]
  },
  {
   "cell_type": "code",
   "execution_count": 25,
   "id": "53708f82",
   "metadata": {},
   "outputs": [],
   "source": [
    "features = ['country', 'release_year', 'IMDb Score']\n",
    "X = final_df[features]\n",
    "y = final_df['type']\n",
    "\n",
    "X_clean = X.dropna()\n",
    "y_clean = y[X.index.isin(X_clean.index)]\n",
    "X_clean_encoded = pd.get_dummies(X_clean, columns=['country'], drop_first=True)\n",
    "\n",
    "X_train, X_test, y_train, y_test = train_test_split(X_clean_encoded, y_clean, test_size=0.2, random_state=42)\n",
    "\n",
    "clf = RandomForestClassifier(n_estimators=100, random_state=42)\n",
    "clf.fit(X_train, y_train)\n",
    "\n",
    "y_pred = clf.predict(X_test)\n",
    "accuracy = accuracy_score(y_test, y_pred)\n",
    "print(f'Accuracy: {accuracy}')\n",
    "baseline_accuracy = max(y_test.value_counts(normalize=True))\n",
    "print(f'Baseline Accuracy: {baseline_accuracy}')"
   ]
  },
  {
   "cell_type": "markdown",
   "id": "9c3b4d65",
   "metadata": {},
   "source": [
    "In this binary classification problem, we aim to predict whether a Netflix title is a \"Movie\" or a \"TV Show\" using features such as the country of production, release year, and IMDb score. The workflow begins with data preprocessing, where missing values in these features are addressed by omitting incomplete records, ensuring the model trains on fully informed data. The categorical nature of the 'country' variable necessitates one-hot encoding, transforming it into a format suitable for machine learning models, which typically require numerical input. This process creates individual binary features for each country, enabling the model to understand and utilize geographical information effectively.\n",
    "\n",
    "The dataset is then divided, with 80% allocated for training the Random Forest Classifier—an ensemble method known for its robustness and ability to prevent overfitting by averaging multiple decision trees—and 20% reserved for testing its performance. The model's accuracy is gauged by comparing predicted labels against actual labels in the test set, providing insight into its predictive capabilities. To contextualize the model's effectiveness, its accuracy is juxtaposed with a baseline accuracy, derived from the most frequent class in the test data. The model's accuracy of 0.7600 indicates that it correctly predicts whether a Netflix title is a \"Movie\" or a \"TV Show\" 76% of the time, which is a notable improvement over the baseline accuracy of 0.6887."
   ]
  },
  {
   "cell_type": "markdown",
   "id": "b986407f",
   "metadata": {},
   "source": [
    "## Results and Conclusions\n",
    "\n",
    "The project underscores the dynamic nature of content management in the streaming industry and highlights the importance of data-driven decision-making in shaping content strategies. By effectively predicting what new titles are likely to succeed, Netflix can better allocate resources, tailor content for specific markets, and stay ahead in the highly competitive streaming landscape. The findings from this project not only benefit strategic planning but also provide a framework for continuous improvement and adaptation to changing viewer preferences and market dynamics.\n",
    "\n",
    "#### Summary of Findings:\n",
    "\n",
    "##### Growth of Netflix Library: \n",
    "Over the years, Netflix has significantly expanded its content library, with a steady increase in the number of movies and TV shows available to its subscribers. This expansion reflects Netflix's strategy to cater to a broad range of viewer preferences and demographics.\n",
    "##### Content Composition: \n",
    "The analysis highlighted that movies constitute the larger portion of Netflix’s catalog, outnumbering TV shows. This might suggest a strategic focus on films, potentially due to their wider appeal or shorter commitment compared to series.\n",
    "##### Recent Content Influx: \n",
    "A significant portion of Netflix's offerings were produced and released in the last twenty years, indicating an emphasis on modern and contemporary content, likely to attract a younger audience base.\n",
    "##### Geographical Availability: \n",
    "The United States boasts the largest selection of Netflix titles, closely followed by Canada. This suggests a strategic focus on North American audiences, who perhaps represent a significant portion of Netflix's market share.\n",
    "##### Diversity in Filmmaking: \n",
    "Netflix's strategy includes a mix of content from both renowned directors and emerging talents, which helps in maintaining a diverse and dynamic catalog appealing to various viewer tastes and preferences.\n",
    "\n",
    "#### Problem Statements Addressed:\n",
    "\n",
    "##### Evolution of Content Types:\n",
    "The project successfully tracked how the popularity and presence of different content types have evolved over time, noting an increasing trend towards adding newer and diverse genres.\n",
    "##### Content Strategies by Region: \n",
    "By analyzing content availability in various countries, we could deduce regional content strategies, which are crucial for Netflix to maintain relevancy in diverse markets.\n",
    "##### Prediction of Title Success: \n",
    "Our predictive models aimed at forecasting the success of new titles were pivotal. We utilized descriptive, predictive, and prescriptive analyses to not only predict outcomes but also suggest actionable strategies based on the data.\n"
   ]
  },
  {
   "cell_type": "markdown",
   "id": "358f8cf9",
   "metadata": {},
   "source": [
    "## Conclusion\n",
    "\n",
    "As we look to the future, our plan is to build a dashboard that offers a straightforward and engaging user experience, drawing on our assembled datasets. This platform will allow users to easily interact with and analyze our findings through linked visualizations and other features.We're also excited about integrating our machine learning models into this user interface, providing users with the capability to predict the potential success of movies. This step will bridge the gap between data science and practical application, delivering our insights in a user-centric way that emphasizes ease of use and clarity.We are also planning to see whether we can create any other models which could be helpful for getting insights of netflix or for generating any revenue for netflix.\n",
    "Developing more advanced analytical models using state-of-the-art machine learning techniques like deep learning could also be explored to improve prediction accuracy. This includes using natural language processing to analyze viewer reviews and comments for sentiment analysis, which could further refine success predictions and content recommendations.\n",
    "\n",
    "Another important area for future work is the exploration of personalized content strategies. By leveraging user-specific data to predict individual preferences, Netflix can tailor content more effectively to various viewer segments. This personalized approach could enhance viewer satisfaction and retention rates.Lastly, expanding the geographic focus of the analysis to include emerging markets could uncover new opportunities for growth. Understanding regional content preferences and constraints will help Netflix tailor its offerings to fit diverse cultural contexts, potentially driving expansion in international subscriber bases.\n",
    "\n",
    "Overall, by continuing to innovate and expand on the data-driven strategies outlined in this project, Netflix can maintain its competitive edge in the rapidly evolving digital streaming landscape."
   ]
  },
  {
   "cell_type": "markdown",
   "id": "bef96cf5",
   "metadata": {},
   "source": [
    "## Additional Work\n",
    "\n",
    "Apart from the visualizations discussed earlier, we have developed a comprehensive dashboard that includes several static visualizations directly addressing our project's problem statements. Additionally, the dashboard features an interactive visualization (Multi-linked visualization) where users have the option to select a specific TV show or movie. Once selected, the genres associated with that title are displayed in a dynamic bubble chart. Selecting a genre from this chart triggers a word cloud display, highlighting the most common words used in that genre, offering insights into thematic elements and content styles.\n",
    "\n",
    "Furthermore, the dashboard is integrated with our predictive model, providing a user-friendly interface where inputs can be submitted to predict the IMDb score and assess the potential success of future movie titles. This feature enhances the dashboard’s utility, making it a valuable tool for both analysis and prediction.\n",
    "\n",
    "To facilitate a better understanding and accessibility of our dashboard, we have uploaded a video walkthrough to a Google Drive link, which showcases its functionality and various features in action. This resource is intended to help stakeholders and team members effectively utilize the dashboard for strategic decision-making and content planning."
   ]
  },
  {
   "cell_type": "markdown",
   "id": "53f4f3eb",
   "metadata": {},
   "source": [
    "### GITHUB Repo : https://github.com/Rohith1110/Datascience_Project\n",
    "### Google drive link : "
   ]
  },
  {
   "cell_type": "code",
   "execution_count": null,
   "id": "03e3dbd1",
   "metadata": {},
   "outputs": [],
   "source": []
  }
 ],
 "metadata": {
  "kernelspec": {
   "display_name": "Python 3",
   "language": "python",
   "name": "python3"
  },
  "language_info": {
   "codemirror_mode": {
    "name": "ipython",
    "version": 3
   },
   "file_extension": ".py",
   "mimetype": "text/x-python",
   "name": "python",
   "nbconvert_exporter": "python",
   "pygments_lexer": "ipython3",
   "version": "3.11.5"
  }
 },
 "nbformat": 4,
 "nbformat_minor": 5
}
